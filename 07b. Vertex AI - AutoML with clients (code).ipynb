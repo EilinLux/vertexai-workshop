{
 "cells": [
  {
   "cell_type": "markdown",
   "id": "274e9220",
   "metadata": {},
   "source": [
    "---\n",
    "## Setup"
   ]
  },
  {
   "cell_type": "code",
   "execution_count": 1,
   "id": "7bf0314c-770c-41fe-be57-f41eb17bf48a",
   "metadata": {
    "tags": []
   },
   "outputs": [
    {
     "data": {
      "text/plain": [
       "'poc-example-ds'"
      ]
     },
     "execution_count": 1,
     "metadata": {},
     "output_type": "execute_result"
    }
   ],
   "source": [
    "project = !gcloud config get-value project\n",
    "PROJECT_ID = project[0]\n",
    "PROJECT_ID"
   ]
  },
  {
   "cell_type": "code",
   "execution_count": 2,
   "id": "3b384974-b1f2-4d99-818f-23b7327fa1ac",
   "metadata": {
    "tags": []
   },
   "outputs": [],
   "source": [
    "LOCATION = 'europe-west1'\n",
    "NOTEBOOK = '01a'\n"
   ]
  },
  {
   "cell_type": "code",
   "execution_count": 3,
   "id": "2c876ea3",
   "metadata": {
    "tags": []
   },
   "outputs": [],
   "source": [
    "DATANAME = 'fraud'\n",
    "\n",
    "# Resources\n",
    "DEPLOY_COMPUTE = 'n1-standard-4'\n",
    "\n",
    "# Model Training\n",
    "VAR_TARGET = 'Class'\n",
    "VAR_OMIT = 'transaction_id' # add more variables to the string with space delimiters"
   ]
  },
  {
   "cell_type": "markdown",
   "id": "766af32d",
   "metadata": {},
   "source": [
    "packages:"
   ]
  },
  {
   "cell_type": "code",
   "execution_count": 4,
   "id": "37cc8f31",
   "metadata": {
    "tags": []
   },
   "outputs": [],
   "source": [
    "from google.cloud import aiplatform\n",
    "from datetime import datetime\n",
    "\n",
    "from google.cloud import bigquery\n",
    "from google.protobuf import json_format\n",
    "from google.protobuf.struct_pb2 import Value\n",
    "import json\n",
    "import numpy as np"
   ]
  },
  {
   "cell_type": "markdown",
   "id": "8eb5d30a",
   "metadata": {},
   "source": [
    "clients:"
   ]
  },
  {
   "cell_type": "code",
   "execution_count": 5,
   "id": "e6ea1163",
   "metadata": {
    "tags": []
   },
   "outputs": [],
   "source": [
    "aiplatform.init(project=PROJECT_ID, location=LOCATION)\n",
    "bigquery = bigquery.Client()"
   ]
  },
  {
   "cell_type": "markdown",
   "id": "3bc72990",
   "metadata": {},
   "source": [
    "parameters:"
   ]
  },
  {
   "cell_type": "code",
   "execution_count": 2,
   "id": "0aa6724c",
   "metadata": {
    "tags": []
   },
   "outputs": [
    {
     "ename": "NameError",
     "evalue": "name 'datetime' is not defined",
     "output_type": "error",
     "traceback": [
      "\u001b[0;31m---------------------------------------------------------------------------\u001b[0m",
      "\u001b[0;31mNameError\u001b[0m                                 Traceback (most recent call last)",
      "Cell \u001b[0;32mIn[2], line 1\u001b[0m\n\u001b[0;32m----> 1\u001b[0m TIMESTAMP \u001b[38;5;241m=\u001b[39m \u001b[43mdatetime\u001b[49m\u001b[38;5;241m.\u001b[39mnow()\u001b[38;5;241m.\u001b[39mstrftime(\u001b[38;5;124m\"\u001b[39m\u001b[38;5;124m%\u001b[39m\u001b[38;5;124mY\u001b[39m\u001b[38;5;124m%\u001b[39m\u001b[38;5;124mm\u001b[39m\u001b[38;5;132;01m%d\u001b[39;00m\u001b[38;5;124m%\u001b[39m\u001b[38;5;124mH\u001b[39m\u001b[38;5;124m%\u001b[39m\u001b[38;5;124mM\u001b[39m\u001b[38;5;124m%\u001b[39m\u001b[38;5;124mS\u001b[39m\u001b[38;5;124m\"\u001b[39m)\n\u001b[1;32m      2\u001b[0m DIR \u001b[38;5;241m=\u001b[39m \u001b[38;5;124mf\u001b[39m\u001b[38;5;124m\"\u001b[39m\u001b[38;5;124mtemp/\u001b[39m\u001b[38;5;132;01m{\u001b[39;00mNOTEBOOK\u001b[38;5;132;01m}\u001b[39;00m\u001b[38;5;124m\"\u001b[39m\n",
      "\u001b[0;31mNameError\u001b[0m: name 'datetime' is not defined"
     ]
    }
   ],
   "source": [
    "TIMESTAMP = datetime.now().strftime(\"%Y%m%d%H%M%S\")\n",
    "DIR = f\"temp/{NOTEBOOK}\""
   ]
  },
  {
   "cell_type": "markdown",
   "id": "6e7aa5a4",
   "metadata": {},
   "source": [
    "environment:"
   ]
  },
  {
   "cell_type": "code",
   "execution_count": 7,
   "id": "839f366e",
   "metadata": {
    "tags": []
   },
   "outputs": [],
   "source": [
    "!rm -rf {DIR}\n",
    "!mkdir -p {DIR}"
   ]
  },
  {
   "cell_type": "markdown",
   "id": "d5815579",
   "metadata": {},
   "source": [
    "---\n",
    "## Create Dataset (link to BigQuery table)\n",
    "\n",
    "Vertex AI datasets are a fundamental component of Google Cloud's unified machine learning platform, Vertex AI. They serve as centralized, managed repositories for the data you use to train, evaluate, and deploy your machine learning models.\n",
    "**Key Benefits of Using Vertex AI Datasets:**\n",
    "\n",
    "* **Centralized Management:** They act as a single source of truth for your ML data, making it easier to organize, access, and control different versions of your datasets.\n",
    "* **Data Labeling:** Vertex AI integrates with human labeling services, allowing you to create labels and multiple annotation sets for your data, which is crucial for supervised learning tasks.\n",
    "* **Lineage Tracking:** Datasets are linked to the models trained on them, providing valuable lineage for governance, auditing, and iterative development. You can see which dataset version was used to train a specific model.\n",
    "* **Automated Data Preparation:** Vertex AI can automatically handle certain data preprocessing tasks like data cleaning, normalization, and splitting data into training, validation, and test sets, especially for AutoML.\n",
    "* **Data Statistics and Visualizations:** You can generate statistics and visualizations of your data to gain insights into its distribution, missing values, and other important characteristics.\n",
    "* **Flexibility for Training:** You can use Vertex AI datasets with both AutoML (for low-code/no-code model training) and custom training jobs (where you provide your own training code).\n",
    "\n",
    "\n",
    "**Types of Data Supported:**\n",
    "Vertex AI datasets are designed to handle various data types commonly used in machine learning:\n",
    "- 🧑‍🎓 **Tabular Datasets**: Structured data organized in rows and columns (e.g., CSV files, BigQuery tables). Used for tasks like classification, regression, and forecasting.\n",
    "- **Image Datasets**: Collections of images for tasks such as image classification, object detection, and image segmentation.\n",
    "- **Text Datasets**: Written text for natural language processing (NLP) tasks like text classification, sentiment analysis, and entity extraction.\n",
    "- **Video Datasets**: Videos for tasks like video classification, action recognition, and object tracking.\n",
    "\n",
    " \n",
    "\n",
    "**How Vertex AI Datasets Work:**\n",
    "\n",
    "1.  **Data Ingestion:** You import your raw data into a Vertex AI dataset. This data can reside in Google Cloud Storage buckets or BigQuery tables. Vertex AI datasets primarily reference your original data; they don't necessarily duplicate it.\n",
    "2.  **Schema Definition:** You define a schema for your dataset, specifying data types for each column (for tabular data) or the structure of your unstructured data. This ensures consistency and helps Vertex AI understand your data.\n",
    "3.  **Labeling (Optional but Recommended):** For supervised learning, you'll often need to label your data. Vertex AI provides tools for manual labeling or integration with human labeling services.\n",
    "4.  **Data Splitting:** Vertex AI can automatically split your dataset into training, validation, and test sets. This is essential for evaluating your model's performance on unseen data.\n",
    "5.  **Integration with Training:** When you train a model in Vertex AI (either with AutoML or custom training), you specify the Vertex AI dataset to use. Vertex AI passes metadata about the dataset to your training application, often through environment variables, indicating the location of the training, validation, and test data.\n",
    "6.  **Version Control:** Vertex AI datasets support versioning, allowing you to keep track of changes to your data over time and retrain models on previous data states if needed. This is crucial for MLOps practices.\n",
    "\n",
    "In essence, Vertex AI datasets provide a robust and managed way to prepare, organize, and integrate your data into the machine learning workflow on Google Cloud, ultimately simplifying and accelerating the development of high-quality AI models.\n",
    "\n",
    "\n"
   ]
  },
  {
   "cell_type": "code",
   "execution_count": 8,
   "id": "8ef3b1e3",
   "metadata": {
    "tags": []
   },
   "outputs": [
    {
     "name": "stdout",
     "output_type": "stream",
     "text": [
      "Creating TabularDataset\n",
      "Create TabularDataset backing LRO: projects/902912982096/locations/europe-west1/datasets/2865419660960989184/operations/8995240691399393280\n",
      "TabularDataset created. Resource name: projects/902912982096/locations/europe-west1/datasets/2865419660960989184\n",
      "To use this TabularDataset in another session:\n",
      "ds = aiplatform.TabularDataset('projects/902912982096/locations/europe-west1/datasets/2865419660960989184')\n"
     ]
    }
   ],
   "source": [
    "dataset = aiplatform.TabularDataset.create(\n",
    "    display_name = f'{NOTEBOOK}_{DATANAME}_{TIMESTAMP}', \n",
    "    bq_source = f'bq://{PROJECT_ID}.{DATANAME}.{DATANAME}_prepped',\n",
    "    labels = {'notebook':f'{NOTEBOOK}'}\n",
    ")"
   ]
  },
  {
   "attachments": {
    "27dcc05e-f97d-4783-a522-9b469daf1e9d.png": {
     "image/png": "[encoded data removed]"
    }
   },
   "cell_type": "markdown",
   "id": "3e7293c1-448d-48ec-ac2c-1235fd6ec9c0",
   "metadata": {},
   "source": [
    "**Dataset link:** https://console.cloud.google.com/vertex-ai/locations/europe-west1/datasets/2865419660960989184/analyze?inv=1&invt=Ab39Iw&project=poc-example-ds\n",
    "\n",
    "if you click on each class you can see statistics on them. For example we can notice the Target Class (i.e. Class) is unbalanced: \n",
    "![image.png](attachment:27dcc05e-f97d-4783-a522-9b469daf1e9d.png)"
   ]
  },
  {
   "cell_type": "markdown",
   "id": "46b48275",
   "metadata": {},
   "source": [
    "---\n",
    "## Train Model with AutoML"
   ]
  },
  {
   "cell_type": "code",
   "execution_count": 9,
   "id": "51634455",
   "metadata": {
    "tags": []
   },
   "outputs": [],
   "source": [
    "# prepare a dictionary of column specifications for a machine learning task\n",
    "\n",
    "# Identifies relevant input features: It starts with all columns in a dataset and removes columns that are:\n",
    "# - Explicitly marked for omission (VAR_OMIT).\n",
    "# - The target variable (VAR_TARGET).\n",
    "column_specs = list(set(dataset.column_names) - set(VAR_OMIT.split()) - set([VAR_TARGET, 'splits']))\n",
    "\n",
    "#  Creates a specification dictionary which automatically infer the data type\n",
    "column_specs = dict.fromkeys(column_specs, 'auto')"
   ]
  },
  {
   "cell_type": "code",
   "execution_count": 10,
   "id": "3115cad7",
   "metadata": {
    "tags": []
   },
   "outputs": [],
   "source": []
  },
  {
   "cell_type": "markdown",
   "id": "da9ce943",
   "metadata": {},
   "source": [
    "Define a Job:\n",
    "- Consider Weighting\n",
    "- Model Type\n",
    "- Optimization Objective\n",
    "\n",
    "https://googleapis.dev/python/aiplatform/latest/aiplatform.html#google.cloud.aiplatform.AutoMLTabularTrainingJob"
   ]
  },
  {
   "cell_type": "code",
   "execution_count": 11,
   "id": "2ada2e66",
   "metadata": {
    "tags": []
   },
   "outputs": [],
   "source": [
    "tabular_classification_job = aiplatform.AutoMLTabularTrainingJob(\n",
    "    display_name = f'{NOTEBOOK}_{DATANAME}_{TIMESTAMP}',\n",
    "    optimization_prediction_type = 'classification', # Train a classification model using tabular data.\n",
    "    optimization_objective = 'maximize-au-prc', # Optimize the model to maximize the Area Under the Precision-Recall Curve,since imbalanced classes.\n",
    "    column_specs = column_specs,\n",
    "    labels = {'notebook':f'{NOTEBOOK}'}\n",
    ")"
   ]
  },
  {
   "cell_type": "code",
   "execution_count": null,
   "id": "45a3c56c-16eb-43ea-855d-daed490fc07a",
   "metadata": {},
   "outputs": [],
   "source": []
  },
  {
   "cell_type": "code",
   "execution_count": null,
   "id": "d3c1a2f4",
   "metadata": {
    "scrolled": true,
    "tags": []
   },
   "outputs": [
    {
     "name": "stdout",
     "output_type": "stream",
     "text": [
      "View Training:\n",
      "https://console.cloud.google.com/ai/platform/locations/europe-west1/training/2419500144652189696?project=902912982096\n",
      "AutoMLTabularTrainingJob projects/902912982096/locations/europe-west1/trainingPipelines/2419500144652189696 current state:\n",
      "PipelineState.PIPELINE_STATE_RUNNING\n",
      "AutoMLTabularTrainingJob projects/902912982096/locations/europe-west1/trainingPipelines/2419500144652189696 current state:\n",
      "PipelineState.PIPELINE_STATE_RUNNING\n",
      "AutoMLTabularTrainingJob projects/902912982096/locations/europe-west1/trainingPipelines/2419500144652189696 current state:\n",
      "PipelineState.PIPELINE_STATE_RUNNING\n",
      "AutoMLTabularTrainingJob projects/902912982096/locations/europe-west1/trainingPipelines/2419500144652189696 current state:\n",
      "PipelineState.PIPELINE_STATE_RUNNING\n",
      "AutoMLTabularTrainingJob projects/902912982096/locations/europe-west1/trainingPipelines/2419500144652189696 current state:\n",
      "PipelineState.PIPELINE_STATE_RUNNING\n",
      "AutoMLTabularTrainingJob projects/902912982096/locations/europe-west1/trainingPipelines/2419500144652189696 current state:\n",
      "PipelineState.PIPELINE_STATE_RUNNING\n",
      "AutoMLTabularTrainingJob projects/902912982096/locations/europe-west1/trainingPipelines/2419500144652189696 current state:\n",
      "PipelineState.PIPELINE_STATE_RUNNING\n",
      "AutoMLTabularTrainingJob projects/902912982096/locations/europe-west1/trainingPipelines/2419500144652189696 current state:\n",
      "PipelineState.PIPELINE_STATE_RUNNING\n",
      "AutoMLTabularTrainingJob projects/902912982096/locations/europe-west1/trainingPipelines/2419500144652189696 current state:\n",
      "PipelineState.PIPELINE_STATE_RUNNING\n",
      "AutoMLTabularTrainingJob projects/902912982096/locations/europe-west1/trainingPipelines/2419500144652189696 current state:\n",
      "PipelineState.PIPELINE_STATE_RUNNING\n",
      "AutoMLTabularTrainingJob projects/902912982096/locations/europe-west1/trainingPipelines/2419500144652189696 current state:\n",
      "PipelineState.PIPELINE_STATE_RUNNING\n",
      "AutoMLTabularTrainingJob projects/902912982096/locations/europe-west1/trainingPipelines/2419500144652189696 current state:\n",
      "PipelineState.PIPELINE_STATE_RUNNING\n",
      "AutoMLTabularTrainingJob projects/902912982096/locations/europe-west1/trainingPipelines/2419500144652189696 current state:\n",
      "PipelineState.PIPELINE_STATE_RUNNING\n",
      "AutoMLTabularTrainingJob projects/902912982096/locations/europe-west1/trainingPipelines/2419500144652189696 current state:\n",
      "PipelineState.PIPELINE_STATE_RUNNING\n",
      "AutoMLTabularTrainingJob projects/902912982096/locations/europe-west1/trainingPipelines/2419500144652189696 current state:\n",
      "PipelineState.PIPELINE_STATE_RUNNING\n",
      "AutoMLTabularTrainingJob projects/902912982096/locations/europe-west1/trainingPipelines/2419500144652189696 current state:\n",
      "PipelineState.PIPELINE_STATE_RUNNING\n",
      "AutoMLTabularTrainingJob projects/902912982096/locations/europe-west1/trainingPipelines/2419500144652189696 current state:\n",
      "PipelineState.PIPELINE_STATE_RUNNING\n",
      "AutoMLTabularTrainingJob projects/902912982096/locations/europe-west1/trainingPipelines/2419500144652189696 current state:\n",
      "PipelineState.PIPELINE_STATE_RUNNING\n",
      "AutoMLTabularTrainingJob projects/902912982096/locations/europe-west1/trainingPipelines/2419500144652189696 current state:\n",
      "PipelineState.PIPELINE_STATE_RUNNING\n",
      "AutoMLTabularTrainingJob projects/902912982096/locations/europe-west1/trainingPipelines/2419500144652189696 current state:\n",
      "PipelineState.PIPELINE_STATE_RUNNING\n",
      "AutoMLTabularTrainingJob projects/902912982096/locations/europe-west1/trainingPipelines/2419500144652189696 current state:\n",
      "PipelineState.PIPELINE_STATE_RUNNING\n",
      "AutoMLTabularTrainingJob projects/902912982096/locations/europe-west1/trainingPipelines/2419500144652189696 current state:\n",
      "PipelineState.PIPELINE_STATE_RUNNING\n",
      "AutoMLTabularTrainingJob projects/902912982096/locations/europe-west1/trainingPipelines/2419500144652189696 current state:\n",
      "PipelineState.PIPELINE_STATE_RUNNING\n",
      "AutoMLTabularTrainingJob projects/902912982096/locations/europe-west1/trainingPipelines/2419500144652189696 current state:\n",
      "PipelineState.PIPELINE_STATE_RUNNING\n",
      "AutoMLTabularTrainingJob projects/902912982096/locations/europe-west1/trainingPipelines/2419500144652189696 current state:\n",
      "PipelineState.PIPELINE_STATE_RUNNING\n",
      "AutoMLTabularTrainingJob run completed. Resource name: projects/902912982096/locations/europe-west1/trainingPipelines/2419500144652189696\n",
      "Model available at projects/902912982096/locations/europe-west1/models/3164460435436994560\n"
     ]
    }
   ],
   "source": [
    "# initiates the execution of the AutoML Tabular Classification \n",
    "# Training Job that was defined in the previous step.\n",
    "model = tabular_classification_job.run(\n",
    "    dataset = dataset,\n",
    "    target_column = VAR_TARGET,\n",
    "    predefined_split_column_name = 'splits',\n",
    "    #    training_fraction_split = 0.8,\n",
    "    #    validation_fraction_split = 0.1,\n",
    "    #    test_fraction_split = 0.1,\n",
    "    budget_milli_node_hours = 1000,\n",
    "    model_display_name = f'{NOTEBOOK}_{DATANAME}_{TIMESTAMP}',\n",
    "    disable_early_stopping = False,\n",
    "    model_labels = {'notebook':f'{NOTEBOOK}'}\n",
    ")"
   ]
  },
  {
   "cell_type": "markdown",
   "id": "65015307-c82d-4c61-aacd-d2655ca5c464",
   "metadata": {},
   "source": [
    "**Notice:**\n",
    "* **`predefined_split_column_name = 'splits'`**:\n",
    "    * **`predefined_split_column_name`**: This parameter indicates that your `dataset` contains a specific column that defines how the data should be split into training, validation, and test sets.\n",
    "    * **`'splits'`**: This specifies that the column named `'splits'` in your dataset (which was explicitly excluded from `column_specs` in the previous step) will be used for this purpose. This column typically contains values (e.g., 'TRAIN', 'VALIDATE', 'TEST') that AutoML interprets to partition the data.\n",
    "    * **Purpose**: This gives you precise control over your data splits, which is often preferred over random splits, especially if you have time-series data or want to ensure specific data characteristics are maintained in each split.\n",
    "\n",
    "* **`# training_fraction_split = 0.8,`**\n",
    "* **`# validation_fraction_split = 0.1,`**\n",
    "* **`# test_fraction_split = 0.1,`**\n",
    "    * These lines are commented out, meaning they are not active in this specific execution.\n",
    "    * **If they *were* active**: These parameters would tell AutoML to automatically split your dataset into training (80%), validation (10%), and test (10%) sets randomly.\n",
    "    * **Purpose of commenting out**: By commenting them out and using `predefined_split_column_name`, you are explicitly choosing to use your own predefined splits rather than letting AutoML do a random split. This is often a better practice for reproducibility and to avoid data leakage if splits are based on business logic.\n",
    "\n",
    "* **`budget_milli_node_hours = 1000`**:\n",
    "    * **`budget_milli_node_hours`**: This is a critical cost-control parameter. It sets the maximum training time (and thus the maximum cost) for your AutoML job.\n",
    "    * **`1000`**: This value means 1000 milli-node hours, which translates to **1 node hour**.\n",
    "        * 1 node hour = 1,000 milli-node hours.\n",
    "        * For example, if the job uses 1 node for 1 hour, it consumes 1 node hour. If it uses 0.5 nodes for 2 hours, it's still 1 node hour.\n",
    "    * AutoML will train various models and configurations within this budget. It will stop once it finds a satisfactory model or when the budget is reached, whichever comes first.\n",
    "    * **Purpose**: To manage the computational resources and costs associated with the AutoML training process.\n",
    "\n",
    "* **`model_display_name = f'{NOTEBOOK}_{DATANAME}_{TIMESTAMP}'`**:\n",
    "    * **`model_display_name`**: This provides a human-readable name for the *resulting trained model* that will be registered in the Vertex AI Model Registry.\n",
    "    * **`f'{NOTEBOOK}_{DATANAME}_{TIMESTAMP}'`**: Similar to the job display name, this f-string creates a unique and descriptive name for the model.\n",
    "    * **Purpose**: Makes it easy to identify the trained model in the Vertex AI console after the training job completes.\n",
    "\n",
    "* **`disable_early_stopping = False`**:\n",
    "    * **`disable_early_stopping`**: This boolean parameter controls whether AutoML should stop training a particular model configuration early if it's not showing significant improvement on the validation set.\n",
    "    * **`False`**: By setting it to `False`, you are enabling early stopping. This means AutoML will intelligently stop unpromising trials, which helps save compute budget and avoid overfitting.\n",
    "    * **Purpose**: To optimize resource usage and potentially improve model generalization by preventing excessive training.\n",
    " "
   ]
  },
  {
   "cell_type": "markdown",
   "id": "0523ffaa-9dfb-41cb-b7b5-6cc6ddae1613",
   "metadata": {
    "tags": []
   },
   "source": [
    "---\n",
    "## Evaluation\n",
    "While the model above was trained using AutoML with the API, it is still possible to review the evaluation metrics directly in the Google Cloud Console.  Just visit the Models section of Vertex AI service and select the model and it will present the evaluation metrics with many helpful visuals.\n",
    "\n",
    "It is also possible to retrieve the evaluation metrics for you model using the API.  This section shows how to use the API.\n"
   ]
  },
  {
   "cell_type": "markdown",
   "id": "a106b740-1d3b-43b5-ac3d-311fb298b2bf",
   "metadata": {},
   "source": [
    "Setup a model client for the model create by this notebook:"
   ]
  },
  {
   "cell_type": "code",
   "execution_count": 28,
   "id": "a4f7b61b-ad0f-487b-8dc6-ac8ed12e6afb",
   "metadata": {
    "tags": []
   },
   "outputs": [
    {
     "data": {
      "text/plain": [
       "'projects/902912982096/locations/europe-west1/models/3164460435436994560'"
      ]
     },
     "execution_count": 28,
     "metadata": {},
     "output_type": "execute_result"
    }
   ],
   "source": [
    "model.resource_name"
   ]
  },
  {
   "cell_type": "code",
   "execution_count": 29,
   "id": "02bbdfaa-75dc-4482-8781-d73f0043aaf9",
   "metadata": {
    "tags": []
   },
   "outputs": [],
   "source": [
    "model_client = aiplatform.gapic.ModelServiceClient(\n",
    "    client_options = {\n",
    "        'api_endpoint' : f'{LOCATION}-aiplatform.googleapis.com'\n",
    "    }\n",
    ")"
   ]
  },
  {
   "cell_type": "markdown",
   "id": "71227e04-8bb0-46d5-862e-3fddfe0361ae",
   "metadata": {},
   "source": [
    "Retrives the aggregate model evalution metrics for the model as a whole.  First, use `.list_model_evaluations` to retrieve the evaluation id, then use `.get_model_evaluation` for the evaluation id:"
   ]
  },
  {
   "cell_type": "code",
   "execution_count": 30,
   "id": "974b597e-f01d-4147-a824-9a6ac8246a1f",
   "metadata": {
    "tags": []
   },
   "outputs": [],
   "source": [
    "evaluations = model_client.list_model_evaluations(parent = model.resource_name)\n",
    "evals = iter(evaluations)\n",
    "eval_id = next(evals).name\n",
    "geteval = model_client.get_model_evaluation(name = eval_id)"
   ]
  },
  {
   "cell_type": "markdown",
   "id": "39aa9551-2e4a-4673-b0d5-1ddec1233e0e",
   "metadata": {},
   "source": [
    "Review several of the metrics include in the evaluation.  Also, compare these to the results in the console view."
   ]
  },
  {
   "cell_type": "code",
   "execution_count": 31,
   "id": "8dd6e04f-c0ec-4ad1-a8be-460cddcb0267",
   "metadata": {
    "tags": []
   },
   "outputs": [
    {
     "data": {
      "text/plain": [
       "0.99986047"
      ]
     },
     "execution_count": 31,
     "metadata": {},
     "output_type": "execute_result"
    }
   ],
   "source": [
    "geteval.metrics['auPrc']"
   ]
  },
  {
   "cell_type": "code",
   "execution_count": 32,
   "id": "edd9892b-eeac-4a64-aa9b-68a7a45a3e76",
   "metadata": {
    "tags": []
   },
   "outputs": [
    {
     "name": "stdout",
     "output_type": "stream",
     "text": [
      "True Label =  0  has Predicted labels =  [28426.0, 0.0, 0.0]\n",
      "True Label =  1  has Predicted labels =  [10.0, 45.0, 0.0]\n",
      "True Label =  DROPPED  has Predicted labels =  [0.0, 0.0, 0.0]\n"
     ]
    }
   ],
   "source": [
    "for i in range(len(geteval.metrics['confusionMatrix']['annotationSpecs'])):\n",
    "    print('True Label = ', geteval.metrics['confusionMatrix']['annotationSpecs'][i]['displayName'], ' has Predicted labels = ', geteval.metrics['confusionMatrix']['rows'][i])"
   ]
  },
  {
   "cell_type": "markdown",
   "id": "2266afe6-be3f-4565-afd9-cb839682df2c",
   "metadata": {},
   "source": [
    "For models with labels you can retrieve the evaluation metrics for each slice of the model:"
   ]
  },
  {
   "cell_type": "code",
   "execution_count": 33,
   "id": "045a6f0d-ab29-4825-a29e-335f5a1727e1",
   "metadata": {
    "tags": []
   },
   "outputs": [],
   "source": [
    "slices = model_client.list_model_evaluation_slices(parent = eval_id)"
   ]
  },
  {
   "cell_type": "code",
   "execution_count": 34,
   "id": "4b7b5c5a-d43c-4c77-8806-fa92f6438e19",
   "metadata": {
    "tags": []
   },
   "outputs": [
    {
     "name": "stdout",
     "output_type": "stream",
     "text": [
      "Label =  1 has auPrc =  0.9336864\n",
      "Label =  0 has auPrc =  0.9998933\n"
     ]
    }
   ],
   "source": [
    "for slice in slices:\n",
    "    print('Label = ', slice.slice_.value, 'has auPrc = ', slice.metrics['auPrc'])"
   ]
  },
  {
   "cell_type": "markdown",
   "id": "3ef3a49d",
   "metadata": {},
   "source": [
    "---\n",
    "## Endpoint and Deployment\n",
    "\n",
    "This code snippet creates an Endpoint in Google Cloud's Vertex AI. An Endpoint is a crucial component in the machine learning deployment process, as it's the specific network location (an API endpoint) where your trained machine learning model will be hosted and served for online predictions."
   ]
  },
  {
   "cell_type": "code",
   "execution_count": 35,
   "id": "f2e1d5e5",
   "metadata": {
    "tags": []
   },
   "outputs": [
    {
     "name": "stdout",
     "output_type": "stream",
     "text": [
      "Creating Endpoint\n",
      "Create Endpoint backing LRO: projects/902912982096/locations/europe-west1/endpoints/910391229752016896/operations/4934612308627292160\n",
      "Endpoint created. Resource name: projects/902912982096/locations/europe-west1/endpoints/910391229752016896\n",
      "To use this Endpoint in another session:\n",
      "endpoint = aiplatform.Endpoint('projects/902912982096/locations/europe-west1/endpoints/910391229752016896')\n"
     ]
    }
   ],
   "source": [
    "endpoint = aiplatform.Endpoint.create(\n",
    "    display_name = f'{NOTEBOOK}_{DATANAME}_{TIMESTAMP}',\n",
    "    labels = {'notebook':f'{NOTEBOOK}'}\n",
    ")"
   ]
  },
  {
   "cell_type": "markdown",
   "id": "f8d153ea-8429-427f-9dcf-615ad9f6bdf8",
   "metadata": {},
   "source": [
    "**What happens after this code runs (or conceptually, what's next)?**\n",
    "\n",
    "Creating an Endpoint is just the first step in deploying a model for online predictions. An endpoint itself doesn't host any model yet. After you create an endpoint, the next typical step is to deploy your trained model to this endpoint.\n",
    "\n",
    "\n",
    "This is usually done using a method like `endpoint.deploy()` or `model.deploy()`, where you specify:\n",
    "* The `model` object (the one returned from your `tabular_classification_job.run()` command).\n",
    "* The `endpoint` object you just created.\n",
    "* Machine configuration details like `machine_type` (e.g., 'n1-standard-2'), `min_replica_count`, and `max_replica_count` to define the compute resources for serving predictions.\n",
    "\n",
    "Once a model is successfully deployed to an endpoint, the endpoint becomes active and ready to receive prediction requests from your applications."
   ]
  },
  {
   "cell_type": "code",
   "execution_count": null,
   "id": "7300dff3",
   "metadata": {
    "tags": []
   },
   "outputs": [],
   "source": [
    "# endpoint.deploy(\n",
    "#     model = model,\n",
    "#     deployed_model_display_name = f'{NOTEBOOK}_{DATANAME}_{TIMESTAMP}',\n",
    "#     traffic_percentage = 100,\n",
    "#     machine_type = DEPLOY_COMPUTE,\n",
    "#     min_replica_count = 1,\n",
    "#     max_replica_count = 1\n",
    "# )"
   ]
  },
  {
   "cell_type": "markdown",
   "id": "a15d96ee",
   "metadata": {},
   "source": [
    "---\n",
    "## Prediction"
   ]
  },
  {
   "cell_type": "markdown",
   "id": "13e324b8",
   "metadata": {},
   "source": [
    "### Prepare a record for prediction: instance and parameters lists"
   ]
  },
  {
   "cell_type": "code",
   "execution_count": 38,
   "id": "7148bd5b",
   "metadata": {
    "tags": []
   },
   "outputs": [],
   "source": [
    "pred = bigquery.query(query = f\"SELECT * FROM {DATANAME}.{DATANAME}_prepped WHERE splits='TEST' LIMIT 10\").to_dataframe()"
   ]
  },
  {
   "cell_type": "code",
   "execution_count": 39,
   "id": "9055ac97",
   "metadata": {
    "tags": []
   },
   "outputs": [
    {
     "data": {
      "text/html": [
       "<div>\n",
       "<style scoped>\n",
       "    .dataframe tbody tr th:only-of-type {\n",
       "        vertical-align: middle;\n",
       "    }\n",
       "\n",
       "    .dataframe tbody tr th {\n",
       "        vertical-align: top;\n",
       "    }\n",
       "\n",
       "    .dataframe thead th {\n",
       "        text-align: right;\n",
       "    }\n",
       "</style>\n",
       "<table border=\"1\" class=\"dataframe\">\n",
       "  <thead>\n",
       "    <tr style=\"text-align: right;\">\n",
       "      <th></th>\n",
       "      <th>Time</th>\n",
       "      <th>V1</th>\n",
       "      <th>V2</th>\n",
       "      <th>V3</th>\n",
       "      <th>V4</th>\n",
       "      <th>V5</th>\n",
       "      <th>V6</th>\n",
       "      <th>V7</th>\n",
       "      <th>V8</th>\n",
       "      <th>V9</th>\n",
       "      <th>...</th>\n",
       "      <th>V23</th>\n",
       "      <th>V24</th>\n",
       "      <th>V25</th>\n",
       "      <th>V26</th>\n",
       "      <th>V27</th>\n",
       "      <th>V28</th>\n",
       "      <th>Amount</th>\n",
       "      <th>Class</th>\n",
       "      <th>transaction_id</th>\n",
       "      <th>splits</th>\n",
       "    </tr>\n",
       "  </thead>\n",
       "  <tbody>\n",
       "    <tr>\n",
       "      <th>0</th>\n",
       "      <td>10910</td>\n",
       "      <td>1.084899</td>\n",
       "      <td>0.199359</td>\n",
       "      <td>1.606916</td>\n",
       "      <td>2.880893</td>\n",
       "      <td>-0.688179</td>\n",
       "      <td>0.627886</td>\n",
       "      <td>-0.844409</td>\n",
       "      <td>0.320399</td>\n",
       "      <td>1.650859</td>\n",
       "      <td>...</td>\n",
       "      <td>0.107861</td>\n",
       "      <td>-0.032271</td>\n",
       "      <td>0.144011</td>\n",
       "      <td>-0.046772</td>\n",
       "      <td>0.021505</td>\n",
       "      <td>0.022237</td>\n",
       "      <td>0.0</td>\n",
       "      <td>0</td>\n",
       "      <td>c5c99f3f-a2ad-43aa-b83b-2159c417d1c5</td>\n",
       "      <td>TEST</td>\n",
       "    </tr>\n",
       "    <tr>\n",
       "      <th>1</th>\n",
       "      <td>81133</td>\n",
       "      <td>-0.928037</td>\n",
       "      <td>0.716264</td>\n",
       "      <td>2.196440</td>\n",
       "      <td>-0.129625</td>\n",
       "      <td>-0.954927</td>\n",
       "      <td>-0.258630</td>\n",
       "      <td>-0.284593</td>\n",
       "      <td>0.260785</td>\n",
       "      <td>0.445548</td>\n",
       "      <td>...</td>\n",
       "      <td>-0.115150</td>\n",
       "      <td>0.462642</td>\n",
       "      <td>-0.384294</td>\n",
       "      <td>1.018291</td>\n",
       "      <td>-0.493084</td>\n",
       "      <td>-0.185673</td>\n",
       "      <td>0.0</td>\n",
       "      <td>0</td>\n",
       "      <td>2d953a2f-936e-4ce2-9f7b-a41b11f2cfcc</td>\n",
       "      <td>TEST</td>\n",
       "    </tr>\n",
       "    <tr>\n",
       "      <th>2</th>\n",
       "      <td>147639</td>\n",
       "      <td>-1.717979</td>\n",
       "      <td>1.817976</td>\n",
       "      <td>1.400821</td>\n",
       "      <td>4.351664</td>\n",
       "      <td>-0.000967</td>\n",
       "      <td>1.182287</td>\n",
       "      <td>-0.760404</td>\n",
       "      <td>1.377329</td>\n",
       "      <td>-2.052576</td>\n",
       "      <td>...</td>\n",
       "      <td>-0.084482</td>\n",
       "      <td>0.686646</td>\n",
       "      <td>-0.053110</td>\n",
       "      <td>0.034509</td>\n",
       "      <td>0.280359</td>\n",
       "      <td>-0.026721</td>\n",
       "      <td>0.0</td>\n",
       "      <td>0</td>\n",
       "      <td>3a90c465-ba87-434a-be09-f2400f581ecd</td>\n",
       "      <td>TEST</td>\n",
       "    </tr>\n",
       "    <tr>\n",
       "      <th>3</th>\n",
       "      <td>63654</td>\n",
       "      <td>-4.883327</td>\n",
       "      <td>-6.110344</td>\n",
       "      <td>1.313198</td>\n",
       "      <td>1.453478</td>\n",
       "      <td>6.203022</td>\n",
       "      <td>-5.562701</td>\n",
       "      <td>-3.636599</td>\n",
       "      <td>0.401356</td>\n",
       "      <td>0.442138</td>\n",
       "      <td>...</td>\n",
       "      <td>1.191681</td>\n",
       "      <td>0.718352</td>\n",
       "      <td>-0.225150</td>\n",
       "      <td>0.255367</td>\n",
       "      <td>-0.133263</td>\n",
       "      <td>0.303217</td>\n",
       "      <td>0.0</td>\n",
       "      <td>0</td>\n",
       "      <td>a04a2bc1-a6a9-4f8a-b39a-5c7ae74acda7</td>\n",
       "      <td>TEST</td>\n",
       "    </tr>\n",
       "  </tbody>\n",
       "</table>\n",
       "<p>4 rows × 33 columns</p>\n",
       "</div>"
      ],
      "text/plain": [
       "     Time        V1        V2        V3        V4        V5        V6  \\\n",
       "0   10910  1.084899  0.199359  1.606916  2.880893 -0.688179  0.627886   \n",
       "1   81133 -0.928037  0.716264  2.196440 -0.129625 -0.954927 -0.258630   \n",
       "2  147639 -1.717979  1.817976  1.400821  4.351664 -0.000967  1.182287   \n",
       "3   63654 -4.883327 -6.110344  1.313198  1.453478  6.203022 -5.562701   \n",
       "\n",
       "         V7        V8        V9  ...       V23       V24       V25       V26  \\\n",
       "0 -0.844409  0.320399  1.650859  ...  0.107861 -0.032271  0.144011 -0.046772   \n",
       "1 -0.284593  0.260785  0.445548  ... -0.115150  0.462642 -0.384294  1.018291   \n",
       "2 -0.760404  1.377329 -2.052576  ... -0.084482  0.686646 -0.053110  0.034509   \n",
       "3 -3.636599  0.401356  0.442138  ...  1.191681  0.718352 -0.225150  0.255367   \n",
       "\n",
       "        V27       V28  Amount  Class                        transaction_id  \\\n",
       "0  0.021505  0.022237     0.0      0  c5c99f3f-a2ad-43aa-b83b-2159c417d1c5   \n",
       "1 -0.493084 -0.185673     0.0      0  2d953a2f-936e-4ce2-9f7b-a41b11f2cfcc   \n",
       "2  0.280359 -0.026721     0.0      0  3a90c465-ba87-434a-be09-f2400f581ecd   \n",
       "3 -0.133263  0.303217     0.0      0  a04a2bc1-a6a9-4f8a-b39a-5c7ae74acda7   \n",
       "\n",
       "   splits  \n",
       "0    TEST  \n",
       "1    TEST  \n",
       "2    TEST  \n",
       "3    TEST  \n",
       "\n",
       "[4 rows x 33 columns]"
      ]
     },
     "execution_count": 39,
     "metadata": {},
     "output_type": "execute_result"
    }
   ],
   "source": [
    "pred.head(4)"
   ]
  },
  {
   "cell_type": "code",
   "execution_count": 82,
   "id": "f2f80ac2",
   "metadata": {
    "tags": []
   },
   "outputs": [
    {
     "data": {
      "text/plain": [
       "{'Time': '10910',\n",
       " 'V1': 1.0848985925605301,\n",
       " 'V2': 0.199358535128206,\n",
       " 'V3': 1.6069162367218999,\n",
       " 'V4': 2.88089313423186,\n",
       " 'V5': -0.688178667404267,\n",
       " 'V6': 0.62788617069338,\n",
       " 'V7': -0.8444090535786991,\n",
       " 'V8': 0.320399153823263,\n",
       " 'V9': 1.6508587644861799,\n",
       " 'V10': 0.129207331514003,\n",
       " 'V11': -0.077701598220752,\n",
       " 'V12': -3.1656461583703304,\n",
       " 'V13': -0.0523785795289134,\n",
       " 'V14': 1.38892202206499,\n",
       " 'V15': -0.600845866869931,\n",
       " 'V16': 0.379401149538819,\n",
       " 'V17': 0.693252240036643,\n",
       " 'V18': -0.166050337345302,\n",
       " 'V19': -1.3921023110288102,\n",
       " 'V20': -0.3485210093211,\n",
       " 'V21': -0.229154915480322,\n",
       " 'V22': -0.306368580072919,\n",
       " 'V23': 0.107861357632864,\n",
       " 'V24': -0.0322713053702367,\n",
       " 'V25': 0.144010584102172,\n",
       " 'V26': -0.0467716428639049,\n",
       " 'V27': 0.0215045899497445,\n",
       " 'V28': 0.0222373986974794,\n",
       " 'Amount': 0.0}"
      ]
     },
     "execution_count": 82,
     "metadata": {},
     "output_type": "execute_result"
    }
   ],
   "source": [
    "newob = pred[pred.columns[~pred.columns.isin(VAR_OMIT.split()+[VAR_TARGET, 'splits'])]].to_dict(orient='records')[0]\n",
    "newob['Time'] = str(newob['Time'])\n",
    "newob"
   ]
  },
  {
   "cell_type": "markdown",
   "id": "64909cc0",
   "metadata": {},
   "source": [
    "Need to understand the format of variables that the predictions expect.  AutoML may convert the type of some variables. The following cells retrieve the model from the endpoint and its schemata:"
   ]
  },
  {
   "cell_type": "code",
   "execution_count": 75,
   "id": "0b155fd4",
   "metadata": {
    "tags": []
   },
   "outputs": [],
   "source": []
  },
  {
   "cell_type": "code",
   "execution_count": 76,
   "id": "44a386d9",
   "metadata": {
    "tags": []
   },
   "outputs": [],
   "source": [
    "instances = [json_format.ParseDict(newob, Value())]\n",
    "parameters = json_format.ParseDict({}, Value())"
   ]
  },
  {
   "cell_type": "markdown",
   "id": "6fa715ce",
   "metadata": {},
   "source": [
    "### Get Predictions: Python Client"
   ]
  },
  {
   "cell_type": "code",
   "execution_count": 78,
   "id": "9394d4ad-94ac-4c5a-b685-91865ac0f96e",
   "metadata": {
    "tags": []
   },
   "outputs": [],
   "source": [
    "# # # performing an online prediction request against a deployed machine learning\n",
    "# # # model on a Vertex AI Endpoint.\n",
    "# prediction = endpoint.predict(instances=instances, parameters=parameters)"
   ]
  },
  {
   "cell_type": "code",
   "execution_count": null,
   "id": "063eba38",
   "metadata": {
    "tags": []
   },
   "outputs": [],
   "source": [
    "# prediction"
   ]
  },
  {
   "cell_type": "code",
   "execution_count": null,
   "id": "30a5f2c7",
   "metadata": {
    "tags": []
   },
   "outputs": [],
   "source": [
    "# prediction.predictions[0]['classes'][np.argmax(prediction.predictions[0]['scores'])]"
   ]
  },
  {
   "cell_type": "markdown",
   "id": "37ff1640",
   "metadata": {},
   "source": [
    "### Get Predictions: REST"
   ]
  },
  {
   "cell_type": "code",
   "execution_count": 1,
   "id": "7c268d6d",
   "metadata": {
    "tags": []
   },
   "outputs": [
    {
     "ename": "NameError",
     "evalue": "name 'DIR' is not defined",
     "output_type": "error",
     "traceback": [
      "\u001b[0;31m---------------------------------------------------------------------------\u001b[0m",
      "\u001b[0;31mNameError\u001b[0m                                 Traceback (most recent call last)",
      "Cell \u001b[0;32mIn[1], line 1\u001b[0m\n\u001b[0;32m----> 1\u001b[0m \u001b[38;5;28;01mwith\u001b[39;00m \u001b[38;5;28mopen\u001b[39m(\u001b[38;5;124mf\u001b[39m\u001b[38;5;124m'\u001b[39m\u001b[38;5;132;01m{\u001b[39;00m\u001b[43mDIR\u001b[49m\u001b[38;5;132;01m}\u001b[39;00m\u001b[38;5;124m/request.json\u001b[39m\u001b[38;5;124m'\u001b[39m,\u001b[38;5;124m'\u001b[39m\u001b[38;5;124mw\u001b[39m\u001b[38;5;124m'\u001b[39m) \u001b[38;5;28;01mas\u001b[39;00m file:\n\u001b[1;32m      2\u001b[0m     file\u001b[38;5;241m.\u001b[39mwrite(json\u001b[38;5;241m.\u001b[39mdumps({\u001b[38;5;124m\"\u001b[39m\u001b[38;5;124minstances\u001b[39m\u001b[38;5;124m\"\u001b[39m: [newob]}))\n",
      "\u001b[0;31mNameError\u001b[0m: name 'DIR' is not defined"
     ]
    }
   ],
   "source": [
    "with open(f'{DIR}/request.json','w') as file:\n",
    "    file.write(json.dumps({\"instances\": [newob]}))"
   ]
  },
  {
   "cell_type": "code",
   "execution_count": 84,
   "id": "2edca20a",
   "metadata": {
    "tags": []
   },
   "outputs": [
    {
     "name": "stdout",
     "output_type": "stream",
     "text": [
      "{\n",
      "  \"predictions\": [\n",
      "    {\n",
      "      \"scores\": [\n",
      "        0.99925804138183594,\n",
      "        0.000741921947337687\n",
      "      ],\n",
      "      \"classes\": [\n",
      "        \"0\",\n",
      "        \"1\"\n",
      "      ]\n",
      "    }\n",
      "  ],\n",
      "  \"deployedModelId\": \"682684570662862848\",\n",
      "  \"model\": \"projects/902912982096/locations/europe-west1/models/3164460435436994560\",\n",
      "  \"modelDisplayName\": \"01a_fraud_20250728104132\",\n",
      "  \"modelVersionId\": \"1\"\n",
      "}\n"
     ]
    }
   ],
   "source": [
    "!curl -X POST \\\n",
    "-H \"Authorization: Bearer \"$(gcloud auth application-default print-access-token) \\\n",
    "-H \"Content-Type: application/json; charset=utf-8\" \\\n",
    "-d @{DIR}/request.json \\\n",
    "https://{LOCATION}-aiplatform.googleapis.com/v1/{endpoint.resource_name}:predict"
   ]
  },
  {
   "cell_type": "markdown",
   "id": "17d3a22b",
   "metadata": {},
   "source": [
    "### Get Predictions: gcloud (CLI)"
   ]
  },
  {
   "cell_type": "code",
   "execution_count": 85,
   "id": "2621a2e3",
   "metadata": {
    "tags": []
   },
   "outputs": [
    {
     "name": "stdout",
     "output_type": "stream",
     "text": [
      "Using endpoint [https://europe-west1-prediction-aiplatform.googleapis.com/]\n",
      "[{'classes': ['0', '1'], 'scores': [0.9992580413818359, 0.000741921947337687]}]\n"
     ]
    }
   ],
   "source": [
    "!gcloud beta ai endpoints predict {endpoint.name.rsplit('/',1)[-1]} --region={LOCATION} --json-request={DIR}/request.json"
   ]
  },
  {
   "cell_type": "markdown",
   "id": "aa2dbae2",
   "metadata": {
    "tags": []
   },
   "source": [
    "---\n",
    "## Explanations\n",
    "\n",
    "In Vertex AI, \"explanations\" refer to the capabilities provided by **Vertex Explainable AI (XAI)**, a set of tools and services designed to help you understand how and why your machine learning models make specific predictions.\n",
    "\n",
    "Machine learning models, especially complex deep learning models, can often behave like \"black boxes\" – they produce accurate predictions, but it's difficult to discern the underlying reasoning. Vertex Explainable AI aims to open up these black boxes, fostering trust, enabling debugging, and providing insights into model behavior.\n",
    "\n",
    "There are primarily two types of explanations offered by Vertex Explainable AI:\n",
    "\n",
    "-  1. Feature-based Explanations (Feature Attributions): This is the most common type of explanation, and it's what the `endpoint.explain()` call typically provides. Feature-based explanations quantify how much each input feature contributed to a model's prediction for a given instance.\n",
    "- 2. Example-based Explanations This type of explanation is less about individual feature contributions and more about **finding similar examples from the training data** that are close to the input instance you're trying to explain.\n",
    "\n",
    "\n",
    " \n",
    "### Why Explanations in Vertex AI are Important:\n",
    "\n",
    "* **Transparency and Trust:** ML models are increasingly used in critical domains (healthcare, finance, legal). Explanations build trust and accountability.\n",
    "* **Debugging and Performance Improvement:** Understanding model behavior helps data scientists and engineers identify flaws, biases, and opportunities to improve model performance.\n",
    "* **Regulatory Compliance:** Some industries have regulations that require explainability for automated decision-making.\n",
    "* **User Understanding:** For applications, explanations can empower users to understand the system's reasoning and make more informed decisions.\n",
    "* **Data Insights:** Attributions can reveal unexpected relationships in your data that the model has learned.\n",
    "\n",
    "Vertex Explainable AI integrates seamlessly with AutoML models (ex. `AutoMLTabularTrainingJob`) and also allows you to configure explanations for custom-trained models. When you deploy a model to a Vertex AI Endpoint, you can enable and configure explainability, allowing you to request explanations alongside or instead of raw predictions.\n",
    "\n",
    "\n",
    "Interpretation Guide\n",
    "- https://cloud.google.com/vertex-ai/docs/predictions/interpreting-results-automl#tabular"
   ]
  },
  {
   "cell_type": "markdown",
   "id": "3138c695-e605-40ab-a050-1be2d57b0980",
   "metadata": {},
   "source": [
    "#### **How it works with Feature-based Explanations:**\n",
    "\n",
    "For a specific prediction, Vertex Explainable AI calculates an **attribution score** for each feature.\n",
    "* **Positive attribution score:** Indicates that the feature's value pushed the prediction towards the predicted outcome.\n",
    "* **Negative attribution score:** Indicates that the feature's value pushed the prediction away from the predicted outcome (or towards a different outcome).\n",
    "* **Magnitude of the score:** Represents the strength of the contribution.\n",
    "\n",
    "These attributions are typically relative to a chosen \"baseline\" value for each feature. The baseline represents a neutral or \"no information\" state (e.g., the mean, median, or zero for numerical features).\n",
    "\n",
    "**Common Methods Used by Vertex Explainable AI for Feature Attributions:**\n",
    "\n",
    "Vertex Explainable AI supports various methods for calculating feature attributions, depending on the model type:\n",
    "\n",
    "* **Integrated Gradients:** A method that attributes the prediction of a deep learning model to its input features. It's especially useful for models with continuous and differentiable inputs.\n",
    "* **Sampled Shapley:** An approximation of Shapley values from game theory. Shapley values fairly distribute the total prediction change among features by considering all possible permutations of features. It's a computationally intensive but very robust method.\n",
    "* **XRAI (eXplanations with RAdient Integrated Gradients):** An image-specific attribution method that can highlight regions in an image that are important for a classification decision.\n",
    "\n",
    "**Use Cases for Feature-based Explanations:**\n",
    "\n",
    "* **Understanding individual predictions:** Why did *this specific loan application* get rejected? Which factors were most important?\n",
    "* **Model debugging:** If a model is making erroneous predictions, feature attributions can help identify if it's relying on irrelevant or misleading features.\n",
    "* **Building trust:** Providing transparent explanations to stakeholders, regulators, or end-users.\n",
    "* **Model improvement:** Gaining insights into which features are truly driving predictions, which can inform feature engineering or data collection efforts.\n",
    "* **Bias detection:** Identifying if a model is disproportionately relying on sensitive features.\n"
   ]
  },
  {
   "cell_type": "code",
   "execution_count": 87,
   "id": "b44aedf4",
   "metadata": {
    "tags": []
   },
   "outputs": [],
   "source": [
    "# # online explanation request against a deployed machine learning model \n",
    "# # on a Vertex AI Endpoint, specifically for feature attributions.\n",
    "# explanation = endpoint.explain(instances=instances, parameters=parameters)"
   ]
  },
  {
   "cell_type": "markdown",
   "id": "d3dc2b44-c9e2-4f92-86bc-85a01a8e5460",
   "metadata": {},
   "source": [
    "\n",
    "**What `explanation` will contain:**\n",
    "\n",
    "The `explanation` object returned by `endpoint.explain()` typically contains:\n",
    "\n",
    "* **`predictions`**: The model's raw predictions for the given instances (similar to what `endpoint.predict()` would return).\n",
    "* **`explanations`**: A list of explanation objects, one for each instance provided in the `instances` list. Each explanation object usually includes:\n",
    "    * **`attributions`**: This is the core of the explanation. It will contain a list of `FeatureAttribution` objects (or similar structure). Each `FeatureAttribution` will include:\n",
    "        * **`featureValues`**: The actual values of the features for the given instance.\n",
    "        * **`featureAttributions`**: The numerical scores (often called \"attributions\" or \"importance scores\") for each feature. These scores indicate how much each feature contributed to the model's prediction for that specific instance. A positive score means the feature pushed the prediction towards the predicted class, while a negative score pushed it away (or towards another class). The magnitude indicates the strength of the contribution.\n",
    "        * **`baselineOutput`**: The prediction if all features were set to their baseline values (useful for understanding the contribution relative to a baseline).\n",
    "        * **`instanceOutput`**: The actual prediction for the given instance.\n",
    "        * Other metadata like `outputIndex`, `outputDisplayName`, etc.\n",
    "\n",
    "**Purpose of `endpoint.explain()`:**\n",
    "\n",
    "This method is fundamental for **model interpretability and debugging**. It allows you to:\n",
    "\n",
    "* **Understand why a model made a specific prediction**: Instead of just getting a black-box prediction, you can see which features were most influential.\n",
    "* **Debug model behavior**: If a model makes an unexpected prediction, explanations can help you identify if it's relying on spurious correlations or incorrect features.\n",
    "* **Build trust**: Explanations can help end-users or stakeholders trust the model more by providing transparency.\n",
    "* **Gain insights into data**: By examining feature attributions across many instances, you can understand which features are generally important for your model.\n",
    "\n",
    "For **Vertex AI AutoML Tabular models**, `explain()` leverages Vertex Explainable AI, which often uses integrated gradients or similar attribution methods to provide these feature importance scores."
   ]
  },
  {
   "cell_type": "code",
   "execution_count": 31,
   "id": "d64bcf23",
   "metadata": {},
   "outputs": [
    {
     "data": {
      "text/plain": [
       "[{'scores': [0.7038372755050659, 0.2961626648902893], 'classes': ['0', '1']}]"
      ]
     },
     "execution_count": 31,
     "metadata": {},
     "output_type": "execute_result"
    }
   ],
   "source": [
    "# explanation.predictions"
   ]
  },
  {
   "cell_type": "code",
   "execution_count": 32,
   "id": "5665a357",
   "metadata": {},
   "outputs": [
    {
     "name": "stdout",
     "output_type": "stream",
     "text": [
      "attribution:\n",
      "baseline output 0.7038440704345703\n",
      "instance output 0.7038372755050659\n",
      "output_index [0]\n",
      "output display value 0\n",
      "approximation error 0.00814278447043606\n"
     ]
    }
   ],
   "source": [
    "print(\"attribution:\")\n",
    "print(\"baseline output\",explanation.explanations[0].attributions[0].baseline_output_value)\n",
    "print(\"instance output\",explanation.explanations[0].attributions[0].instance_output_value)\n",
    "print(\"output_index\",explanation.explanations[0].attributions[0].output_index)\n",
    "print(\"output display value\",explanation.explanations[0].attributions[0].output_display_name)\n",
    "print(\"approximation error\",explanation.explanations[0].attributions[0].approximation_error)"
   ]
  },
  {
   "cell_type": "code",
   "execution_count": null,
   "id": "f4658234",
   "metadata": {
    "tags": []
   },
   "outputs": [],
   "source": [
    "import matplotlib.pyplot as plt\n",
    "features = []\n",
    "scores = []\n",
    "for k in explanation.explanations[0].attributions[0].feature_attributions:\n",
    "    features.append(k)\n",
    "    scores.append(explanation.explanations[0].attributions[0].feature_attributions[k])\n",
    "features = [x for _, x in sorted(zip(scores, features))]\n",
    "scores = sorted(scores)\n",
    "fig, ax = plt.subplots()\n",
    "fig.set_size_inches(9, 9)\n",
    "ax.barh(features, scores)\n",
    "fig.show()"
   ]
  },
  {
   "cell_type": "markdown",
   "id": "1c214f08",
   "metadata": {},
   "source": [
    "---\n",
    "## Batch Predictions: BigQuery Source to BigQuery Destination, with Explanations\n",
    "\n",
    "\n",
    "This code snippet initiates a **Batch Prediction Job** in Vertex AI. Unlike online predictions (which you performed with `endpoint.predict()` for real-time, low-latency needs), batch prediction is designed for making predictions on a large volume of data asynchronously.\n",
    "\n",
    "\n",
    "**What happens when this code runs:**\n",
    "\n",
    "1.  **Job Creation**: Vertex AI creates a `BatchPredictionJob` resource.\n",
    "2.  **Resource Provisioning**: Vertex AI provisions the necessary compute resources (e.g., virtual machines) to run the prediction job.\n",
    "3.  **Data Ingestion**: It reads the input data from the specified BigQuery table.\n",
    "4.  **Prediction & Explanation**: For each instance in the input data, it sends a request to the underlying model (which is managed by Vertex AI, similar to an endpoint but ephemeral for the batch job) to get both a prediction and its corresponding explanation (if `generate_explanation=True`).\n",
    "5.  **Result Writing**: The predictions and explanations are then written to a new BigQuery table created by Vertex AI within the specified `bigquery_destination_prefix`.\n",
    "6.  **Job Completion**: Once all instances are processed, the job completes, and the resources are de-provisioned.\n",
    "\n",
    "Batch prediction is ideal for scenarios where you need to process large datasets offline, where real-time latency is not a primary concern, and you want to analyze the results and explanations in bulk."
   ]
  },
  {
   "cell_type": "code",
   "execution_count": null,
   "id": "71448467",
   "metadata": {
    "scrolled": true,
    "tags": []
   },
   "outputs": [
    {
     "name": "stdout",
     "output_type": "stream",
     "text": [
      "Creating BatchPredictionJob\n",
      "BatchPredictionJob created. Resource name: projects/902912982096/locations/europe-west1/batchPredictionJobs/3475136860433416192\n",
      "To use this BatchPredictionJob in another session:\n",
      "bpj = aiplatform.BatchPredictionJob('projects/902912982096/locations/europe-west1/batchPredictionJobs/3475136860433416192')\n",
      "View Batch Prediction Job:\n",
      "https://console.cloud.google.com/ai/platform/locations/europe-west1/batch-predictions/3475136860433416192?project=902912982096\n",
      "BatchPredictionJob projects/902912982096/locations/europe-west1/batchPredictionJobs/3475136860433416192 current state:\n",
      "JobState.JOB_STATE_PENDING\n",
      "BatchPredictionJob projects/902912982096/locations/europe-west1/batchPredictionJobs/3475136860433416192 current state:\n",
      "JobState.JOB_STATE_PENDING\n",
      "BatchPredictionJob projects/902912982096/locations/europe-west1/batchPredictionJobs/3475136860433416192 current state:\n",
      "JobState.JOB_STATE_PENDING\n",
      "BatchPredictionJob projects/902912982096/locations/europe-west1/batchPredictionJobs/3475136860433416192 current state:\n",
      "JobState.JOB_STATE_PENDING\n",
      "BatchPredictionJob projects/902912982096/locations/europe-west1/batchPredictionJobs/3475136860433416192 current state:\n",
      "JobState.JOB_STATE_RUNNING\n",
      "BatchPredictionJob projects/902912982096/locations/europe-west1/batchPredictionJobs/3475136860433416192 current state:\n",
      "JobState.JOB_STATE_RUNNING\n",
      "BatchPredictionJob projects/902912982096/locations/europe-west1/batchPredictionJobs/3475136860433416192 current state:\n",
      "JobState.JOB_STATE_RUNNING\n",
      "BatchPredictionJob projects/902912982096/locations/europe-west1/batchPredictionJobs/3475136860433416192 current state:\n",
      "JobState.JOB_STATE_RUNNING\n",
      "BatchPredictionJob projects/902912982096/locations/europe-west1/batchPredictionJobs/3475136860433416192 current state:\n",
      "JobState.JOB_STATE_RUNNING\n"
     ]
    }
   ],
   "source": [
    "batch = aiplatform.BatchPredictionJob.create(\n",
    "    job_display_name = f'{NOTEBOOK}_{DATANAME}_{TIMESTAMP}',\n",
    "    model_name = model.name,\n",
    "    instances_format = \"bigquery\",\n",
    "    predictions_format = \"bigquery\",\n",
    "    bigquery_source = f'bq://{PROJECT_ID}.{DATANAME}.{DATANAME}_prepped',\n",
    "    bigquery_destination_prefix = f\"{PROJECT_ID}\",\n",
    "    generate_explanation = True,\n",
    "    labels = {'notebook':f'{NOTEBOOK}'}\n",
    ")"
   ]
  },
  {
   "cell_type": "markdown",
   "id": "2e85128e-285b-49c4-93ad-6032e4b5ccf5",
   "metadata": {},
   "source": [
    "\n",
    "Here's a breakdown of the parameters:\n",
    "\n",
    "* **`batch = aiplatform.BatchPredictionJob.create(...)`**:\n",
    "    * This creates and starts a new `BatchPredictionJob` resource in Vertex AI.\n",
    "    * The object returned and assigned to `batch` represents this job, which you can then monitor.\n",
    "\n",
    "* **`job_display_name = f'{NOTEBOOK}_{DATANAME}_{TIMESTAMP}'`**:\n",
    "    * **`job_display_name`**: A human-readable name for your batch prediction job, which will appear in the Vertex AI console.\n",
    "    * **`f'{NOTEBOOK}_{DATANAME}_{TIMESTAMP}'`**: Uses an f-string to create a unique and descriptive name, leveraging the notebook name, dataset name, and a timestamp.\n",
    "    * **Purpose**: Helps in identifying and organizing your batch prediction jobs.\n",
    "\n",
    "* **`model_name = model.name`**:\n",
    "    * **`model_name`**: This specifies the full resource name of the trained model that you want to use for making predictions.\n",
    "    * **`model.name`**: This refers to the `name` attribute of the `model` object you obtained after your `tabular_classification_job.run()` completed. This `name` typically looks like `projects/<PROJECT_ID>/locations/<REGION>/models/<MODEL_ID>`.\n",
    "    * **Purpose**: Links the batch prediction job to the specific trained model from your Vertex AI Model Registry.\n",
    "\n",
    "* **`instances_format = \"bigquery\"`**:\n",
    "    * **`instances_format`**: Defines the format of your input data for the batch prediction.\n",
    "    * **`\"bigquery\"`**: Indicates that your input instances are located in a BigQuery table. Other common formats include `\"csv\"` or `\"jsonl\"` for data in Cloud Storage.\n",
    "    * **Purpose**: Informs Vertex AI how to read your source data.\n",
    "\n",
    "* **`predictions_format = \"bigquery\"`**:\n",
    "    * **`predictions_format`**: Defines the format in which the prediction results will be written.\n",
    "    * **`\"bigquery\"`**: Indicates that the predictions will be written to a BigQuery table. Other options include `\"csv\"` or `\"jsonl\"` for output to Cloud Storage.\n",
    "    * **Important Note**: For BigQuery input, Vertex AI often requires BigQuery output as well. This is a common pattern for batch prediction jobs using BigQuery as both source and destination.\n",
    "    * **Purpose**: Informs Vertex AI where and how to store the prediction outputs.\n",
    "\n",
    "* **`bigquery_source = f'bq://{PROJECT_ID}.{DATANAME}.{DATANAME}_prepped'`**:\n",
    "    * **`bigquery_source`**: The URI (Uniform Resource Identifier) pointing to the BigQuery table containing your input data.\n",
    "    * **`f'bq://{PROJECT_ID}.{DATANAME}.{DATANAME}_prepped'`**: An f-string constructing the BigQuery table URI.\n",
    "        * **`PROJECT_ID`**: Your Google Cloud project ID.\n",
    "        * **`DATANAME`**: The dataset ID in BigQuery.\n",
    "        * **`DATANAME}_prepped`**: The specific table within that dataset that holds the prepped data for prediction.\n",
    "    * **Purpose**: Provides the exact location of the input data in BigQuery.\n",
    "\n",
    "* **`bigquery_destination_prefix = f\"{PROJECT_ID}\"`**:\n",
    "    * **`bigquery_destination_prefix`**: This specifies the BigQuery project where the prediction results will be written. Vertex AI will create a new dataset and table within this project to store the results.\n",
    "    * **`f\"{PROJECT_ID}\"`**: In this case, it's set to the current project ID, meaning the output will be in the same project as your job.\n",
    "    * **Purpose**: Defines the base location for the output predictions in BigQuery. Vertex AI will automatically create a new dataset and table (e.g., `prediction_<model-display-name>_<job-create-time>`) within this prefix.\n",
    "\n",
    "* **`generate_explanation = True`**:\n",
    "    * **`generate_explanation`**: This is a powerful boolean flag that tells Vertex AI to **also generate feature attributions (explanations)** for each prediction made during the batch job.\n",
    "    * **`True`**: By setting this to `True`, the output BigQuery table will include an additional column (often named `explanation` or similar) containing the explanation (feature attribution scores) for each predicted instance. This relies on the deployed model having been configured for explanations.\n",
    "    * **Purpose**: To enable model interpretability for your batch predictions, allowing you to understand the \"why\" behind each prediction on a large scale. This is incredibly useful for auditing, debugging, and gaining insights from large datasets.\n"
   ]
  },
  {
   "cell_type": "code",
   "execution_count": null,
   "id": "c734cb6d-328e-46fb-b105-cad46d7da08b",
   "metadata": {},
   "outputs": [],
   "source": []
  }
 ],
 "metadata": {
  "environment": {
   "kernel": "conda-base-py",
   "name": "workbench-notebooks.m131",
   "type": "gcloud",
   "uri": "us-docker.pkg.dev/deeplearning-platform-release/gcr.io/workbench-notebooks:m131"
  },
  "kernelspec": {
   "display_name": "Python 3 (ipykernel) (Local)",
   "language": "python",
   "name": "conda-base-py"
  },
  "language_info": {
   "codemirror_mode": {
    "name": "ipython",
    "version": 3
   },
   "file_extension": ".py",
   "mimetype": "text/x-python",
   "name": "python",
   "nbconvert_exporter": "python",
   "pygments_lexer": "ipython3",
   "version": "3.10.18"
  }
 },
 "nbformat": 4,
 "nbformat_minor": 5
}
